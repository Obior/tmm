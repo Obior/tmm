{
 "cells": [
  {
   "cell_type": "markdown",
   "metadata": {
    "application/vnd.databricks.v1+cell": {
     "cellMetadata": {},
     "inputWidgets": {},
     "nuid": "ed35040e-83ec-4327-bf35-66ca631aaaab",
     "showTitle": false,
     "title": ""
    }
   },
   "source": [
    "#  Welcome to the Databricks Notebook \n",
    "\n",
    " The Notebook is the primary code authoring tool in Databricks.  With it, you can do anything from simple exploratory data analysis to training ML models or building multi-stage data pipelines.\n",
    "\n",
    " \n",
    " \n",
    " Let’s dive in and execute some code!"
   ]
  },
  {
   "cell_type": "markdown",
   "metadata": {
    "application/vnd.databricks.v1+cell": {
     "cellMetadata": {},
     "inputWidgets": {},
     "nuid": "45878e42-9d11-45df-be3d-0ffbbb3cdc06",
     "showTitle": false,
     "title": ""
    }
   },
   "source": [
    "----------------------------------------------------------------------------------------------------------------\n"
   ]
  },
  {
   "cell_type": "markdown",
   "metadata": {
    "application/vnd.databricks.v1+cell": {
     "cellMetadata": {},
     "inputWidgets": {},
     "nuid": "43ddc56c-36f8-4a0f-a3a5-403694d856af",
     "showTitle": false,
     "title": ""
    }
   },
   "source": [
    "Running code in the Notebook is simple—just write some code in a cell and either click the “Run” button or use one of the following keyboard shortcuts:\n",
    "-  Cmd + Enter:  Run the current cell\n",
    "- Shift + Enter:  Run the current cell and move to cursor to the next cell\n",
    "\n",
    "Try running the `print(\"Let's execute some Python code!\")` statement that has been provided."
   ]
  },
  {
   "cell_type": "code",
   "execution_count": 0,
   "metadata": {
    "application/vnd.databricks.v1+cell": {
     "cellMetadata": {
      "byteLimit": 2048000,
      "rowLimit": 10000
     },
     "inputWidgets": {},
     "nuid": "5175f00e-31a3-403c-9177-b8caa1b25638",
     "showTitle": false,
     "title": ""
    }
   },
   "outputs": [],
   "source": [
    "print(\"Let's execute some Python code!\")"
   ]
  },
  {
   "cell_type": "markdown",
   "metadata": {
    "application/vnd.databricks.v1+cell": {
     "cellMetadata": {},
     "inputWidgets": {},
     "nuid": "8b016b0f-7e32-4834-b21d-cd6c32deeb88",
     "showTitle": false,
     "title": ""
    }
   },
   "source": [
    "### Try the command palette\n",
    "\n",
    "Use the `[Cmd + Shift + P]` keyboard shortcut to open the command palette for key notebook actions like adding new cells, showing results side by side and more.\n"
   ]
  },
  {
   "cell_type": "markdown",
   "metadata": {
    "application/vnd.databricks.v1+cell": {
     "cellMetadata": {},
     "inputWidgets": {},
     "nuid": "97df509f-1f2f-47e2-bdf1-fe79765e0c01",
     "showTitle": false,
     "title": ""
    }
   },
   "source": [
    "### The Notebook is a multi-language authoring experience\n",
    "\n",
    "You're not limited to just Python in Databricks!  You can write and execute code in Python, SQL, Scala, or R, and you can annotate your notebooks using Markdown.\n",
    "\n",
    "Change the language of a cell using the following magic commands or the language switcher in the top-right of the cell:\n",
    "\n",
    "* `%python` for Python\n",
    "* `%sql` for SQL\n",
    "* `%scala` for Scala\n",
    "* `%r` for R\n",
    "* `%md` for Markdown\n"
   ]
  },
  {
   "cell_type": "markdown",
   "metadata": {
    "application/vnd.databricks.v1+cell": {
     "cellMetadata": {},
     "inputWidgets": {},
     "nuid": "0f7fd312-20f1-4c65-89fa-8f91d57622e3",
     "showTitle": false,
     "title": ""
    }
   },
   "source": [
    "### Access sample data\n",
    "\n",
    "The Notebook includes an embedded Catalog explorer on the left-hand side.  Here, you can explore the data available to you inside of the Unity Catalog’s catalogs, schema, and tables. You can reference data in Unity Catalog as `catalog.schema.table`. \n",
    "\n",
    "For this exercise, the Bakehouse dataset stored in `samples.bakehouse`, which simulates a bakery franchise business, will be used.\n",
    "\n",
    "#### View the data using SQL\n",
    "Let's start with viewing the `samples.bakehouse.sales_transactions`"
   ]
  },
  {
   "cell_type": "code",
   "execution_count": 0,
   "metadata": {
    "application/vnd.databricks.v1+cell": {
     "cellMetadata": {
      "byteLimit": 2048000,
      "implicitDf": true,
      "rowLimit": 10000
     },
     "inputWidgets": {},
     "nuid": "08739341-f61f-457e-813b-699b4a9a6594",
     "showTitle": false,
     "title": ""
    }
   },
   "outputs": [],
   "source": [
    " %sql\n",
    "SELECT * from samples.bakehouse.sales_transactions LIMIT 50;"
   ]
  },
  {
   "cell_type": "markdown",
   "metadata": {
    "application/vnd.databricks.v1+cell": {
     "cellMetadata": {},
     "inputWidgets": {},
     "nuid": "1c7d9e31-ceda-4172-94aa-291a64d33034",
     "showTitle": false,
     "title": ""
    }
   },
   "source": [
    "\n",
    "#### Back to Python! \n",
    "Let's determine the most popular product and identify the top city contributing to its sales by querying sample data stored in Unity Catalog using Python."
   ]
  },
  {
   "cell_type": "code",
   "execution_count": 0,
   "metadata": {
    "application/vnd.databricks.v1+cell": {
     "cellMetadata": {
      "byteLimit": 2048000,
      "rowLimit": 10000
     },
     "inputWidgets": {},
     "nuid": "f95c75dd-3cd1-4560-976b-06c9f779033a",
     "showTitle": false,
     "title": ""
    }
   },
   "outputs": [],
   "source": [
    "import pandas as pd\n",
    "\n",
    "# Read the sample bakehouse transactions and franchises datasets and load them into a PySpark DataFrame. Convert PySpark DataFrame to Pandas DataFrame\n",
    "df_transactions = spark.read.table('samples.bakehouse.sales_transactions')\n",
    "df_franchises = spark.read.table('samples.bakehouse.sales_franchises')\n",
    "pdf_transactions = df_transactions.toPandas()\n",
    "pdf_franchises = df_franchises.toPandas()\n",
    "\n",
    "# Which product sold the most units?\n",
    "top_product = (pdf_transactions.groupby('product')['quantity']\n",
    "          .sum()\n",
    "          .reset_index()\n",
    "          .sort_values(by='quantity', ascending=False)\n",
    "         )\n",
    "        \n",
    "display(top_product)"
   ]
  },
  {
   "cell_type": "code",
   "execution_count": 0,
   "metadata": {
    "application/vnd.databricks.v1+cell": {
     "cellMetadata": {
      "byteLimit": 2048000,
      "rowLimit": 10000
     },
     "inputWidgets": {},
     "nuid": "cdbb89fb-b5fe-49e4-b73c-9243fa70c9f4",
     "showTitle": false,
     "title": ""
    }
   },
   "outputs": [],
   "source": [
    "## Top city selling most units of Outback Oatmeal\n",
    "top_city = (pdf_franchises.merge(pdf_transactions[pdf_transactions['product'] == 'Outback Oatmeal'], \n",
    "                            on='franchiseID', \n",
    "                            how='right')\n",
    "            .groupby('city')['quantity']\n",
    "            .sum()\n",
    "            .reset_index()\n",
    "            .sort_values(by='quantity', ascending=False)\n",
    "            .rename(columns={'quantity': 'units'})\n",
    "         )\n",
    "\n",
    "display(top_city)"
   ]
  },
  {
   "cell_type": "markdown",
   "metadata": {
    "application/vnd.databricks.v1+cell": {
     "cellMetadata": {},
     "inputWidgets": {},
     "nuid": "1fd7976b-250f-4b60-9909-0a8e24d7f91c",
     "showTitle": false,
     "title": ""
    }
   },
   "source": [
    "### Visualize the data\n",
    "\n",
    "You can visualize the data in your table from the results of the query by clicking the + button at the top of the results experience and completing the visualization builder dialog.\n",
    "Select your preferred visualization type, and fill out the chart values to prepare the chart.\n",
    "\n",
    "Let's visualize Outback Oatmeal sales across all franchises every week."
   ]
  },
  {
   "cell_type": "code",
   "execution_count": 0,
   "metadata": {
    "application/vnd.databricks.v1+cell": {
     "cellMetadata": {
      "byteLimit": 2048000,
      "implicitDf": true,
      "rowLimit": 10000
     },
     "inputWidgets": {},
     "nuid": "8a5f5980-10a6-4b21-b798-50aa95b426ca",
     "showTitle": false,
     "title": ""
    }
   },
   "outputs": [
    {
     "output_type": "display_data",
     "data": {
      "text/plain": [
       "Databricks visualization. Run in Databricks to view."
      ]
     },
     "metadata": {
      "application/vnd.databricks.v1.subcommand+json": {
       "baseErrorDetails": null,
       "bindings": {},
       "collapsed": false,
       "command": "%sql WITH q AS (SELECT\nf.name as franchise_name, \ndate_trunc('week',datetime) as week, \nsum(quantity) as quantity\nFROM bakehouse.sales.transactions t join bakehouse.sales.franchises f on t.franchiseID = f.franchiseID\nWHERE product = 'Outback Oatmeal' \nGROUP BY 1,2) SELECT `franchise_name`,SUM(`quantity`) `column_307907b74`,`week` FROM q GROUP BY `franchise_name`,`week`",
       "commandTitle": "Visualization 1",
       "commandType": "auto",
       "commandVersion": 0,
       "commentThread": [],
       "commentsVisible": false,
       "contentSha256Hex": null,
       "customPlotOptions": {
        "redashChart": [
         {
          "key": "type",
          "value": "CHART"
         },
         {
          "key": "options",
          "value": {
           "alignYAxesAtZero": true,
           "coefficient": 1,
           "columnConfigurationMap": {
            "series": {
             "column": "week",
             "id": "column_307907b76"
            },
            "x": {
             "column": "franchise_name",
             "id": "column_307907b71"
            },
            "y": [
             {
              "column": "quantity",
              "id": "column_307907b74",
              "transform": "SUM"
             }
            ]
           },
           "dateTimeFormat": "DD/MM/YYYY HH:mm",
           "direction": {
            "type": "counterclockwise"
           },
           "error_y": {
            "type": "data",
            "visible": true
           },
           "globalSeriesType": "column",
           "isAggregationOn": true,
           "legend": {
            "traceorder": "normal"
           },
           "missingValuesAsZero": true,
           "numberFormat": "0,0.[00000]",
           "percentFormat": "0[.]00%",
           "series": {
            "error_y": {
             "type": "data",
             "visible": true
            },
            "stacking": "stack"
           },
           "seriesOptions": {
            "column_307907b74": {
             "type": "column",
             "yAxis": 0
            }
           },
           "showDataLabels": false,
           "sizemode": "diameter",
           "sortX": true,
           "sortY": true,
           "swappedAxes": false,
           "textFormat": "",
           "useAggregationsUi": true,
           "valuesOptions": {},
           "version": 2,
           "xAxis": {
            "labels": {
             "enabled": true
            },
            "type": "-"
           },
           "yAxis": [
            {
             "type": "-"
            },
            {
             "opposite": true,
             "type": "-"
            }
           ]
          }
         }
        ]
       },
       "datasetPreviewNameToCmdIdMap": {},
       "diffDeletes": [],
       "diffInserts": [],
       "displayType": "redashChart",
       "error": null,
       "errorDetails": null,
       "errorSummary": null,
       "errorTraceType": null,
       "finishTime": 0,
       "globalVars": {},
       "guid": "",
       "height": "auto",
       "hideCommandCode": false,
       "hideCommandResult": false,
       "iPythonMetadata": null,
       "inputWidgets": {},
       "isLockedInExamMode": false,
       "latestUser": "a user",
       "latestUserId": null,
       "listResultMetadata": null,
       "metadata": {},
       "nuid": "aee9be7a-1a2e-4d83-8e69-593efb63f644",
       "origId": 0,
       "parentHierarchy": [],
       "pivotAggregation": null,
       "pivotColumns": null,
       "position": 6.375,
       "resultDbfsErrorMessage": null,
       "resultDbfsStatus": "INLINED_IN_TREE",
       "results": null,
       "showCommandTitle": false,
       "startTime": 0,
       "state": "input",
       "streamStates": {},
       "subcommandOptions": {
        "queryPlan": {
         "groups": [
          {
           "column": "franchise_name",
           "type": "column"
          },
          {
           "column": "week",
           "type": "column"
          }
         ],
         "selects": [
          {
           "column": "franchise_name",
           "type": "column"
          },
          {
           "alias": "column_307907b74",
           "args": [
            {
             "column": "quantity",
             "type": "column"
            }
           ],
           "function": "SUM",
           "type": "function"
          },
          {
           "column": "week",
           "type": "column"
          }
         ]
        }
       },
       "submitTime": 0,
       "subtype": "tableResultSubCmd.visualization",
       "tableResultIndex": 0,
       "tableResultSettingsMap": {},
       "useConsistentColors": false,
       "version": "CommandV1",
       "width": "auto",
       "workflows": null,
       "xColumns": null,
       "yColumns": null
      }
     },
     "output_type": "display_data"
    }
   ],
   "source": [
    "%sql\n",
    "\n",
    "--  How many units of Outback Oatmeal are being sold across all locations every week?\n",
    "\n",
    "\n",
    "SELECT\n",
    "f.name as franchise_name, \n",
    "date_trunc('week',datetime) as week, \n",
    "sum(quantity) as quantity\n",
    "FROM samples.bakehouse.sales_transactions t join samples.bakehouse.sales_franchises f on t.franchiseID = f.franchiseID\n",
    "WHERE product = 'Outback Oatmeal' \n",
    "GROUP BY 1,2\n"
   ]
  },
  {
   "cell_type": "markdown",
   "metadata": {
    "application/vnd.databricks.v1+cell": {
     "cellMetadata": {},
     "inputWidgets": {},
     "nuid": "9218eb9b-0077-43b5-b10a-791dcecc8e3a",
     "showTitle": false,
     "title": ""
    }
   },
   "source": [
    "### Use the Databricks Assistant for code suggestions\n",
    "Notebooks come equipped with the context-aware Databricks Assistant, which can help generate, explain, and fix code using natural language.\n",
    "To use the assistant, create a new cell and `click CMD+I` or click the Assistant icon on the top right corner of the new cell.\n",
    "\n",
    "Enter a prompt for the Assistant to provide code suggestions. Here are some sample prompts:\n",
    "- _SQL query to show total units of Outback Oatmeal sold per day_\n",
    "\n",
    "Press Return or the submit button to submit the prompt and watch the Assistant suggest code to answer the prompt. Click “Accept” to save the code suggestion and run the cell to view the results!\n"
   ]
  },
  {
   "cell_type": "code",
   "execution_count": 0,
   "metadata": {
    "application/vnd.databricks.v1+cell": {
     "cellMetadata": {},
     "inputWidgets": {},
     "nuid": "0449d336-3edc-44d5-aaf7-94b155357120",
     "showTitle": false,
     "title": ""
    }
   },
   "outputs": [],
   "source": []
  },
  {
   "cell_type": "markdown",
   "metadata": {
    "application/vnd.databricks.v1+cell": {
     "cellMetadata": {},
     "inputWidgets": {},
     "nuid": "eaee9072-f2c0-4ecf-ab7f-da346b535fed",
     "showTitle": false,
     "title": ""
    }
   },
   "source": [
    "#### Databricks Assistant can also help debug code \n",
    "Run the query below and click \"Diagnose Error\" at the bottom of the sell to get Assistant's help in fixing the error.\n",
    "\n",
    "Once the Assistant suggests a fix, click the  `<<` icon at the top of the suggestion to replace the cell content and rerun the cell to view the results!"
   ]
  },
  {
   "cell_type": "code",
   "execution_count": 0,
   "metadata": {
    "application/vnd.databricks.v1+cell": {
     "cellMetadata": {
      "byteLimit": 2048000,
      "implicitDf": true,
      "rowLimit": 10000
     },
     "inputWidgets": {},
     "nuid": "4aaf1480-4228-4a95-9687-2b89b8c77d69",
     "showTitle": false,
     "title": ""
    }
   },
   "outputs": [],
   "source": [
    "%sql\n",
    "\n",
    "SELECT date_trunc('Q', dateTime), sum(quantity)\n",
    "from samples.bakehouse.sales_transactions\n",
    "where product = 'Outback Oatmeal'\n",
    "-- GROUP BY 1"
   ]
  },
  {
   "cell_type": "markdown",
   "metadata": {
    "application/vnd.databricks.v1+cell": {
     "cellMetadata": {},
     "inputWidgets": {},
     "nuid": "f41ea1f4-bea9-42bf-9a8f-5f472e69bc54",
     "showTitle": false,
     "title": ""
    }
   },
   "source": [
    "## Share the notebook with colleagues\n",
    "\n",
    "- Collaboration with teammates in Databricks is easy. Copy and share a link to begin working together!\n",
    "\n",
    "- To manage access to the notebook, click at the top of the notebook to open the permissions dialog.  Share your notebook with any colleague by adding the “All Users” group to the notebook’s access list with “Can View” or “Can Run” permission and sending your colleague the notebook’s URL, which can be copied to your clipboard using the “Copy link” button.\n",
    "\n",
    "- If you are using the SQL Editor, click “Save” to save your work. Click “Share” to manage access for the query using the permissions dialog, using the same process as above.\n",
    "\n",
    "\n"
   ]
  },
  {
   "cell_type": "markdown",
   "metadata": {
    "application/vnd.databricks.v1+cell": {
     "cellMetadata": {},
     "inputWidgets": {},
     "nuid": "fba6a4fe-f0d0-4ec9-bb46-68632c3f26cd",
     "showTitle": false,
     "title": ""
    }
   },
   "source": [
    "#### Next steps\n",
    "\n",
    "- To learn about adding data from CSV files to Unity Catalog and visualize data, see Get started: Import and visualize CSV data from a notebook.\n",
    "- To learn how to load data into Databricks using Apache Spark, see Tutorial: Load and transform data using Apache Spark DataFrames.\n",
    "- To learn more about ingesting data into Databricks, see Ingest data into a Databricks lakehouse.\n",
    "- To learn more about querying data with Databricks, see Query data.\n",
    "- To learn more about visualizations, see Visualizations in Databricks notebooks.\n"
   ]
  },
  {
   "cell_type": "code",
   "execution_count": 0,
   "metadata": {
    "application/vnd.databricks.v1+cell": {
     "cellMetadata": {},
     "inputWidgets": {},
     "nuid": "275fd548-d1a0-48d9-abd9-e935248efa79",
     "showTitle": false,
     "title": ""
    }
   },
   "outputs": [],
   "source": [
    "\n"
   ]
  }
 ],
 "metadata": {
  "application/vnd.databricks.v1+notebook": {
   "dashboards": [],
   "environmentMetadata": {
    "base_environment": "",
    "client": "1"
   },
   "language": "python",
   "notebookMetadata": {
    "mostRecentlyExecutedCommandWithImplicitDF": {
     "commandId": 3739600564845768,
     "dataframes": [
      "_sqldf"
     ]
    },
    "pythonIndentUnit": 2
   },
   "notebookName": "Starter notebook",
   "widgets": {}
  },
  "language_info": {
   "name": "python"
  }
 },
 "nbformat": 4,
 "nbformat_minor": 0
}
